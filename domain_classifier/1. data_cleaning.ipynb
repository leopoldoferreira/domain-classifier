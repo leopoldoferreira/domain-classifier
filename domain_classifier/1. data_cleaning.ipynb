{
 "cells": [
  {
   "cell_type": "code",
   "execution_count": 1,
   "metadata": {},
   "outputs": [],
   "source": [
    "import csv\n",
    "import fileinput\n",
    "import re\n",
    "from os.path import abspath"
   ]
  },
  {
   "cell_type": "code",
   "execution_count": 36,
   "metadata": {},
   "outputs": [],
   "source": [
    "def append_to_txt(output_name, list_name):\n",
    "    \"\"\"Convert list to .txt\"\"\"\n",
    "    with open(output_name, 'a') as file_handle:\n",
    "        for list_item in list_name:\n",
    "            file_handle.write('%s\\n' % list_item)\n",
    "\n",
    "def cleaner(*filepath, outputname):\n",
    "    \"\"\"Inplace removal of protocol (http://), prefix (www)\n",
    "    and paths (/something.html) from list of urls.\n",
    "    Ensure that is a .com\n",
    "    \"\"\"\n",
    "    # Inplace removal of protocol, prefix, paths\n",
    "    # also, backup file as name_bak\n",
    "    for path in filepath:\n",
    "        path = abspath(path)\n",
    "        with fileinput.FileInput(\n",
    "                path, inplace=True, backup='_bak') as file_handle:\n",
    "            for line in file_handle:\n",
    "                print(re.sub(r'(.*\\/\\/|www\\.)|(\\/.*)|(.*[@_!#$%^&*()<>?\\|}{~:].*)', '', line), end='')\n",
    "        # Read file into list\n",
    "        domain_list = [line.rstrip('\\n').lower() for line in open(path) if line]\n",
    "        # Remove duplicates\n",
    "        domain_list = set(domain_list)\n",
    "        \n",
    "        # Grab those that ends with .com and strip\n",
    "        dotcom = [domain.strip('.com') for domain in domain_list if domain.endswith(\".com\")]\n",
    "        # Grab those that does not have .\n",
    "        dotcom = [domain for domain in dotcom if '.' not in domain]\n",
    "        # Remove duplicates\n",
    "        dotcom = list(set(dotcom))\n",
    "        \n",
    "        # Size checking\n",
    "        print(\n",
    "            'initial length: ' + str(len(domain_list)) + ' | ' +\n",
    "            'after clean: ' + str(len(dotcom)) + ' | ' +\n",
    "            'lost of: ' + str(len(domain_list) - len(dotcom)) +\n",
    "            ' or {:.5}%'.format(str((len(domain_list) - len(dotcom)) / len(domain_list) * 100)))\n",
    "        \n",
    "        # Write captured domains name on file\n",
    "        append_to_txt('./data/lists/cleaned/' + outputname, dotcom)"
   ]
  },
  {
   "cell_type": "code",
   "execution_count": 41,
   "metadata": {},
   "outputs": [
    {
     "name": "stdout",
     "output_type": "stream",
     "text": [
      "initial length: 434737 | after clean: 202818 | lost of: 231919 or 53.34%\n",
      "initial length: 26819 | after clean: 10362 | lost of: 16457 or 61.36%\n",
      "initial length: 1400 | after clean: 418 | lost of: 982 or 70.14%\n",
      "initial length: 5689 | after clean: 1896 | lost of: 3793 or 66.67%\n"
     ]
    }
   ],
   "source": [
    "alexa = 'data/lists/legitimate/public_alexa_500k_found'\n",
    "malwaredomain = 'data/lists/malicious/public_malwaredomains'\n",
    "openphish = 'data/lists/malicious/public_openphish'\n",
    "phishtank = 'data/lists/malicious/public_phishtank'\n",
    "\n",
    "cleaner(alexa, outputname='legitimate_cleaned')\n",
    "cleaner(malwaredomain, openphish, phishtank, outputname='malicious_cleaned')"
   ]
  }
 ],
 "metadata": {
  "kernelspec": {
   "display_name": "env",
   "language": "python",
   "name": "env"
  },
  "language_info": {
   "codemirror_mode": {
    "name": "ipython",
    "version": 3
   },
   "file_extension": ".py",
   "mimetype": "text/x-python",
   "name": "python",
   "nbconvert_exporter": "python",
   "pygments_lexer": "ipython3",
   "version": "3.9.1"
  }
 },
 "nbformat": 4,
 "nbformat_minor": 4
}

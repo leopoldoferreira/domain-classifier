{
 "cells": [
  {
   "cell_type": "code",
   "execution_count": 12,
   "metadata": {},
   "outputs": [],
   "source": [
    "import pandas as pd\n",
    "import numpy as np\n",
    "from sklearn import metrics\n",
    "from sklearn.model_selection import train_test_split\n",
    "from tpot import TPOTClassifier\n",
    "pipeline_optimizer = TPOTClassifier()\n",
    "import os\n",
    "from os.path import abspath"
   ]
  },
  {
   "cell_type": "code",
   "execution_count": 4,
   "metadata": {},
   "outputs": [],
   "source": [
    "pvt_leg = pd.read_csv(abspath('./data/features/public_lexical.csv'))\n",
    "df = pvt_leg.sample(frac=1).reset_index(drop=True)\n",
    "x = df.drop(['class'], axis=1)\n",
    "y = df['class']\n",
    "X_train, X_test, y_train, y_test = train_test_split(x, y, test_size=0.3)"
   ]
  },
  {
   "cell_type": "code",
   "execution_count": 5,
   "metadata": {},
   "outputs": [
    {
     "name": "stdout",
     "output_type": "stream",
     "text": [
      "(1508458, 13) (1508458,)\n",
      "(646482, 13) (646482,)\n"
     ]
    }
   ],
   "source": [
    "print(X_train.shape, y_train.shape)\n",
    "print(X_test.shape, y_test.shape)"
   ]
  },
  {
   "cell_type": "code",
   "execution_count": 6,
   "metadata": {
    "scrolled": true
   },
   "outputs": [
    {
     "name": "stderr",
     "output_type": "stream",
     "text": [
      "/home/leops/env/lib/python3.9/site-packages/xgboost/compat.py:36: FutureWarning: pandas.Int64Index is deprecated and will be removed from pandas in a future version. Use pandas.Index with the appropriate dtype instead.\n",
      "  from pandas import MultiIndex, Int64Index\n"
     ]
    },
    {
     "data": {
      "application/vnd.jupyter.widget-view+json": {
       "model_id": "c0c7a6930d3b45ad8d7cab419c662419",
       "version_major": 2,
       "version_minor": 0
      },
      "text/plain": [
       "Optimization Progress:   0%|          | 0/2 [00:00<?, ?pipeline/s]"
      ]
     },
     "metadata": {},
     "output_type": "display_data"
    },
    {
     "name": "stderr",
     "output_type": "stream",
     "text": [
      "/home/leops/env/lib/python3.9/site-packages/tpot/builtins/__init__.py:36: UserWarning: Warning: optional dependency `torch` is not available. - skipping import of NN models.\n",
      "  warnings.warn(\"Warning: optional dependency `torch` is not available. - skipping import of NN models.\")\n",
      "/home/leops/env/lib/python3.9/site-packages/tpot/builtins/__init__.py:36: UserWarning: Warning: optional dependency `torch` is not available. - skipping import of NN models.\n",
      "  warnings.warn(\"Warning: optional dependency `torch` is not available. - skipping import of NN models.\")\n"
     ]
    },
    {
     "name": "stdout",
     "output_type": "stream",
     "text": [
      "\n",
      "Generation 1 - Current best internal CV score: 0.5661311223454988\n",
      "\n",
      "Best pipeline: GaussianNB(BernoulliNB(input_matrix, alpha=0.01, fit_prior=True))\n"
     ]
    },
    {
     "data": {
      "text/plain": [
       "TPOTClassifier(cv=10, generations=1, n_jobs=-1, population_size=1,\n",
       "               random_state=42, scoring='balanced_accuracy', verbosity=2)"
      ]
     },
     "execution_count": 6,
     "metadata": {},
     "output_type": "execute_result"
    }
   ],
   "source": [
    "pipeline = TPOTClassifier(\n",
    "    generations=1,\n",
    "    population_size=1,\n",
    "    scoring='balanced_accuracy',\n",
    "    cv=10,\n",
    "    random_state=42,\n",
    "    verbosity=2,\n",
    "    n_jobs=-1)\n",
    "#     max_time_mins=1,\n",
    "pipeline.fit(X_train, y_train)\n",
    "#pipeline.export('./data/private_lexical_tpot_trained.py')"
   ]
  },
  {
   "cell_type": "code",
   "execution_count": 17,
   "metadata": {},
   "outputs": [
    {
     "name": "stderr",
     "output_type": "stream",
     "text": [
      "/home/leops/env/lib/python3.9/site-packages/sklearn/base.py:450: UserWarning: X does not have valid feature names, but BernoulliNB was fitted with feature names\n",
      "  warnings.warn(\n",
      "/home/leops/env/lib/python3.9/site-packages/sklearn/base.py:450: UserWarning: X does not have valid feature names, but BernoulliNB was fitted with feature names\n",
      "  warnings.warn(\n"
     ]
    },
    {
     "name": "stdout",
     "output_type": "stream",
     "text": [
      "confusion matrix: [[555831  52710]\n",
      " [ 29678   8263]]\n",
      "              precision    recall  f1-score   support\n",
      "\n",
      "           0       0.95      0.91      0.93    608541\n",
      "           1       0.14      0.22      0.17     37941\n",
      "\n",
      "    accuracy                           0.87    646482\n",
      "   macro avg       0.54      0.57      0.55    646482\n",
      "weighted avg       0.90      0.87      0.89    646482\n",
      "\n",
      "accuracy 0.8725594834813653\n",
      "precision 0.13551900021320912\n",
      "recall 0.2177855090798872\n",
      "f1-score 0.1670744282912429\n",
      "roc_auc 0.5655842510866019\n",
      "balanc_acc 0.5655842510866019\n",
      "matthew_co 0.10548562938031725\n"
     ]
    }
   ],
   "source": [
    "results = pipeline.predict(X_test)\n",
    "print('confusion matrix:', metrics.confusion_matrix(y_test,results))\n",
    "\n",
    "print(metrics.classification_report(y_test,results))\n",
    "\n",
    "print('accuracy', metrics.accuracy_score(y_test,results))\n",
    "print('precision', metrics.precision_score(y_test,results))\n",
    "print('recall', metrics.recall_score(y_test,results))\n",
    "print('f1-score', metrics.f1_score(y_test,results))\n",
    "print('roc_auc', metrics.roc_auc_score(y_test,results))\n",
    "\n",
    "print('balanc_acc', metrics.balanced_accuracy_score(y_test,results))\n",
    "print('matthew_co', metrics.matthews_corrcoef(y_test,results))"
   ]
  },
  {
   "cell_type": "code",
   "execution_count": null,
   "metadata": {},
   "outputs": [],
   "source": []
  }
 ],
 "metadata": {
  "kernelspec": {
   "display_name": "env",
   "language": "python",
   "name": "env"
  },
  "language_info": {
   "codemirror_mode": {
    "name": "ipython",
    "version": 3
   },
   "file_extension": ".py",
   "mimetype": "text/x-python",
   "name": "python",
   "nbconvert_exporter": "python",
   "pygments_lexer": "ipython3",
   "version": "3.9.1"
  }
 },
 "nbformat": 4,
 "nbformat_minor": 4
}
